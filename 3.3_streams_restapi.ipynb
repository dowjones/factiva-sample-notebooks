{
 "cells": [
  {
   "cell_type": "markdown",
   "metadata": {},
   "source": [
    "# Streams - Consuming data via REST API\n",
    "\n",
    "Given some environment restrictions or preference by IT policies, this notebook shows an alternative mechanism to consume content from Streams. Specifically pulling messages from Google Cloud Pub/Sub Subscriptions using a convenitional REST API, instead of using the default streaming protocols. \n",
    "\n",
    "The current notebook shows how to interact with these taxonomies to convert codes to human-readable values or viceversa.\n",
    "\n",
    "In this notebook...\n",
    "* [Dependencies and Initialisation](#dependencies-and-initialisation)\n",
    "* [Authentication](#authentication)\n",
    "* [Pulling and Processing Messages](#pulling-and-processing-messages)\n",
    "* [Next Steps](#next-steps)"
   ]
  },
  {
   "cell_type": "markdown",
   "metadata": {},
   "source": [
    "## Dependencies and Initialisation\n",
    "\n",
    "This notebook expects that the `FACTIVA_USERKEY` and `FACTIVA_SUBSCRIPTIONID` are set in the `.env` file when the `dotenv.load_dotenv()` is executed. More details in the [Configuration notebook](0.2_configuration.ipynb).\n",
    "\n",
    "Particularly for this notebook, the following packages are also needed:\n",
    "\n",
    "```\n",
    "pip install PyJWT\n",
    "pip install pyjwt[crypto]\n",
    "```"
   ]
  },
  {
   "cell_type": "code",
   "execution_count": 1,
   "metadata": {},
   "outputs": [],
   "source": [
    "import json\n",
    "import os\n",
    "import requests\n",
    "import datetime\n",
    "import jwt          # pip install PyJWT\n",
    "import base64\n",
    "\n",
    "from dotenv import load_dotenv\n",
    "load_dotenv()\n",
    "\n",
    "STREAM_CRED_URL = 'https://api.dowjones.com/sns-accounts/streaming-credentials'\n",
    "\n",
    "USERKEY = os.environ['FACTIVA_USERKEY']\n",
    "REQ_DEFAULT_HEADERS = {\n",
    "    'user-key': USERKEY,\n",
    "    'content-type': \"application/json\",\n",
    "    'cache-control': \"no-cache\",\n",
    "    'X-API-VERSION': \"3.0\"\n",
    "}\n",
    "SUBSCRIPTIONID = os.environ['FACTIVA_SUBSCRIPTIONID']\n",
    "AUTHZ_URL = 'https://oauth2.googleapis.com/token'"
   ]
  },
  {
   "cell_type": "markdown",
   "metadata": {},
   "source": [
    "## Authentication\n",
    "\n",
    "Loads the streaming credentials from the API and extracts details needed for Google Cloud Pub/Sub requests."
   ]
  },
  {
   "cell_type": "code",
   "execution_count": 2,
   "metadata": {},
   "outputs": [],
   "source": [
    "resp = requests.get(STREAM_CRED_URL, headers=REQ_DEFAULT_HEADERS)\n",
    "streaming_credentials = json.loads(resp.json()['data']['attributes']['streaming_credentials'])\n",
    "\n",
    "private_key_id = streaming_credentials['private_key_id']\n",
    "private_key = streaming_credentials['private_key']\n",
    "client_email = streaming_credentials['client_email']\n",
    "project_id = streaming_credentials['project_id']"
   ]
  },
  {
   "cell_type": "markdown",
   "metadata": {},
   "source": [
    "With the streaming credentials data, builds an Authentication Token request object."
   ]
  },
  {
   "cell_type": "code",
   "execution_count": 3,
   "metadata": {},
   "outputs": [],
   "source": [
    "iat_dt = datetime.datetime.now()\n",
    "iat = int(iat_dt.timestamp())\n",
    "exp_dt = iat_dt + datetime.timedelta(seconds=3600)\n",
    "exp = int(exp_dt.timestamp())\n",
    "\n",
    "payload = {\n",
    "    'iss': client_email,\n",
    "    'scope': \"https://www.googleapis.com/auth/cloud-platform https://www.googleapis.com/auth/pubsub\",\n",
    "    'aud': \"https://oauth2.googleapis.com/token\",\n",
    "    'iat': iat,\n",
    "    'exp': exp\n",
    "}\n",
    "\n",
    "additional_headers = {\n",
    "    'kid': streaming_credentials['private_key_id']\n",
    "}\n",
    "\n",
    "authn_token = jwt.encode(payload, streaming_credentials['private_key'], headers=additional_headers, algorithm=\"RS256\")"
   ]
  },
  {
   "cell_type": "markdown",
   "metadata": {},
   "source": [
    "With the Authentication token, it uses the Google Auth service to obtain a Bearer Token (`jwt_token`)."
   ]
  },
  {
   "cell_type": "code",
   "execution_count": 4,
   "metadata": {},
   "outputs": [],
   "source": [
    "authz_payload = {\n",
    "        'grant_type': 'urn:ietf:params:oauth:grant-type:jwt-bearer',\n",
    "        'assertion': authn_token\n",
    "    }\n",
    "\n",
    "resp = requests.post(AUTHZ_URL, data=authz_payload)\n",
    "jwt_token = resp.json()"
   ]
  },
  {
   "cell_type": "markdown",
   "metadata": {},
   "source": [
    "## Pulling and Processing Messages\n",
    "\n",
    "Constants for the message consumption section."
   ]
  },
  {
   "cell_type": "code",
   "execution_count": 5,
   "metadata": {},
   "outputs": [],
   "source": [
    "PUBSUB_HEADERS = { 'Authorization': f\"Bearer {jwt_token['access_token']}\" }\n",
    "PULL_BODY = { 'maxMessages': 10 }\n",
    "PULL_URL = f\"https://pubsub.googleapis.com/v1/projects/{project_id}/subscriptions/{SUBSCRIPTIONID}:pull\"\n",
    "ACK_URL = f\"https://pubsub.googleapis.com/v1/projects/{project_id}/subscriptions/{SUBSCRIPTIONID}:acknowledge\"\n",
    "INFO_URL = f\"https://pubsub.googleapis.com/v1/projects/{project_id}/subscriptions/{SUBSCRIPTIONID}\""
   ]
  },
  {
   "cell_type": "markdown",
   "metadata": {},
   "source": [
    "Message handling custom function and list of messages acknowledgement function.\n",
    "\n",
    "`process_message`: Function to process a Factiva message which can have the strcture of a news message or a bulk or other type of event [See the official documentation](https://developer.dowjones.com/documents/site-docs-factiva_apis-factiva_analytics_apis-factiva_streams_api#events).\n",
    "- Article-Specific Events (possible values for the `action` property):\n",
    "    - **ADD**: The message is delivering the first version of an article. At the application’s database level, this action is equivalent to an INSERT or UPSERT (an INSERT after checking the article is not in the database in case of retransmitted messages).\n",
    "    - **REP**: Short for replace. The message is delivering an updated version of an article. At the database level, this action is equivalent to an UPSERT or an UPDATE, depending on whether your application’s database has a previous version of the article; if not, process the message as an add. Identify article existence using its ID in the attribute an. Some use cases might require storing the article update as an additional version with timestamps to determine the latest version to display based on a point-in-time logic.\n",
    "    - **DEL**: Short for delete. The message is requesting to delete an article based on its ID (an). Your application can ignore the message if the article doesn’t exist in the database. Depending on the use case, this action is equivalent to a DELETE operation at the database level when hard-delete is required. If soft-delete is required, your application must modify a custom availability flag with an UPDATE database operation. The latter option requires the application logic to filter out unavailable articles to end-users and keep the record only for audit and traceability purposes.\n",
    "- Other Events (possible values from the `event_type` property):\n",
    "    - **SOURCE_DELETE**: When receiving a source_delete event, you must remove all articles associated with the specified source from your database. Your application can ignore the message if no content exists for the specified source."
   ]
  },
  {
   "cell_type": "code",
   "execution_count": 8,
   "metadata": {},
   "outputs": [],
   "source": [
    "def print_message(message):\n",
    "    print(f\"[{datetime.datetime.now().strftime('%Y-%m-%d %H:%M:%S')}] {message}\")\n",
    "\n",
    "\n",
    "def process_message(factiva_message):\n",
    "    try:\n",
    "        if 'action' in factiva_message.keys(): \n",
    "            # Message is an article event\n",
    "            # Implement your logic according to the documentation:\n",
    "            # https://developer.dowjones.com/documents/site-docs-factiva_apis-factiva_analytics_apis-factiva_streams_api#article-specific-events\n",
    "            if factiva_message['action'] == 'add':\n",
    "                # Insert the article to the repository as new. Handle repeated messages.\n",
    "                print_message(f\"[ARTICLE] [ADD] AN: {factiva_message['an']} - {factiva_message['title']}\")\n",
    "            elif factiva_message['action'] == 'rep':\n",
    "                # Upsert/Update/AddNewVersion the article in the repository. Handle repeated messages.\n",
    "                print_message(f\"[ARTICLE] [REP] AN: {factiva_message['an']} - {factiva_message['title']}\")\n",
    "            elif factiva_message['action'] == 'del':\n",
    "                # Delete or mark as deleted the article in the repository. Handle inexistent article AN.\n",
    "                print_message(f\"[ARTICLE] [DEL] AN: {factiva_message['an']} - *** DELETE ***\")\n",
    "            else:\n",
    "                print_message(f\"[ERROR] Factiva Action Not Handled: {factiva_message['action']}\")\n",
    "\n",
    "        elif 'event_type' in factiva_message.keys():\n",
    "            # Message is a bulk action or service event\n",
    "            if factiva_message['event_type'] == 'source_delete':\n",
    "                # Delete all articles from the repository matching the source_code. Handle inexistent source_code and repeated messages.\n",
    "                print_message(f\"[EVENT] [SOURCE_DELETE] Source: {factiva_message['source_code'].upper()} - {factiva_message['description']}\")\n",
    "            else:\n",
    "                print_message(f\"[ERROR] Factiva Event Type Not Handled: {factiva_message['event_type']}\")\n",
    "\n",
    "        else:\n",
    "            print_message(f\"[ERROR] Unexpected Message Format:[{factiva_message}]\")\n",
    "   \n",
    "    except Exception as e:\n",
    "        print_message(f\"[ERROR] Error processing Factiva message: {e}\")\n",
    "\n",
    "\n",
    "\n",
    "def acknowledge_messages(ack_ids: list):\n",
    "    ack_payload = {\n",
    "        'ackIds': [ack_id for ack_id in ack_ids]\n",
    "    }\n",
    "    resp = requests.post(ACK_URL, headers=PUBSUB_HEADERS, json=ack_payload)\n",
    "    if resp.status_code == 200:\n",
    "        if resp.json() == {}:\n",
    "            print(\"--- ACK Success ---\")"
   ]
  },
  {
   "cell_type": "markdown",
   "metadata": {},
   "source": [
    "Code snippet that consumes all messages until the subscription is emptied."
   ]
  },
  {
   "cell_type": "code",
   "execution_count": 10,
   "metadata": {},
   "outputs": [
    {
     "name": "stdout",
     "output_type": "stream",
     "text": [
      "[2025-06-17 13:04:39] [ARTICLE] [ADD] AN: DJDN000020250611el6b002l0 - *S&PGR Rates Citadel Securities L.P.'s Sr Secured Notes 'BBB-'\n",
      "[2025-06-17 13:04:39] [ARTICLE] [ADD] AN: DJDN000020250611el6b002if - Xunlei Down Over 18%, On Track for Largest Percent Decrease Since January 2018 -- Data Talk\n",
      "[2025-06-17 13:04:39] [ARTICLE] [ADD] AN: DJDN000020250611el6b002l1 - *Kazia Therapeutics Ltd. ADR (KZIA) Resumed Trading\n",
      "[2025-06-17 13:04:39] [ARTICLE] [ADD] AN: DJDN000020250611el6b002ml - GitLab Price Target Maintained With a $85.00/Share by Piper Sandler\n",
      "[2025-06-17 13:04:39] [ARTICLE] [ADD] AN: DJDN000020250611el6b002l2 - Carnival Is Maintained at Buy by Stifel\n",
      "[2025-06-17 13:04:39] [ARTICLE] [ADD] AN: DJDN000020250611el6b002l3 - Dow Jones 2:00 PM Averages: DJIA 42,985.10 UP 118.23\n",
      "[2025-06-17 13:04:39] [ARTICLE] [ADD] AN: DJDN000020250611el6b002ig - Press Release: DoubleVerify Launches DV Authentic AdVantage, an Industry-First, AI-Powered Solution to Drive Superior Performance Across Proprietary Video Platforms\n",
      "[2025-06-17 13:04:39] [ARTICLE] [ADD] AN: DJDN000020250611el6b002l4 - Dow Jones Internet Composite 1185.41 dn -2.84 or -0.24%\n",
      "[2025-06-17 13:04:39] [ARTICLE] [ADD] AN: DJDN000020250611el6b002ih - Bloomberg Commodity Index 103.035 up 0.263 or +0.26%\n",
      "[2025-06-17 13:04:39] [ARTICLE] [ADD] AN: DJDN000020250611el6b002mm - 10-Year Treasury Auction Was Strong Again in Positive Sign for U.S. Assets -- Barrons.com\n",
      "--- ACK Success ---\n",
      "[2025-06-17 13:04:40] [ARTICLE] [ADD] AN: DJDN000020250611el6b002lb - JM Smucker Is Maintained at Hold by Stifel\n",
      "[2025-06-17 13:04:40] [ARTICLE] [ADD] AN: DJDN000020250611el6b002il - El Paso County Hospital District Offering $265.5M of Bonds for Medical Facility Upgrades\n",
      "[2025-06-17 13:04:40] [ARTICLE] [REP] AN: DJDN000020250611el6b002il - El Paso County Hospital District Offering $265.5M of Bonds for Medical Facility Upgrades\n",
      "[2025-06-17 13:04:40] [ARTICLE] [ADD] AN: DJDN000020250611el6b002mr - USDA Estimated Daily Livestock Slaughter - June 11\n",
      "[2025-06-17 13:04:40] [ARTICLE] [ADD] AN: DJDN000020250611el6b002im - Press Release: IDEX Biometrics ASA: Mandatory notification of trade - 11 June 2025\n",
      "[2025-06-17 13:04:40] [ARTICLE] [ADD] AN: DJDN000020250611el6b002lc - Ouster Up Over 28%, on Track for Highest Close Since June 2022 -- Data Talk\n",
      "[2025-06-17 13:04:40] [ARTICLE] [ADD] AN: DJDN000020250611el6b002ms - Casey's General Stores Is Maintained at Neutral by Goldman Sachs\n",
      "[2025-06-17 13:04:40] [ARTICLE] [ADD] AN: DJDN000020250611el6b002in - Urban Outfitters Underestimated Opportunity With Nuuly -- Market Talk\n",
      "[2025-06-17 13:04:40] [ARTICLE] [ADD] AN: DJDN000020250611el6b002ld - Urban Outfitters Underestimated Opportunity With Nuuly -- Market Talk\n",
      "[2025-06-17 13:04:40] [ARTICLE] [ADD] AN: DJDN000020250611el6b002le - Texas Governor to Deploy National Guard as Anti-ICE Protests Spread -- 5th Update\n",
      "--- ACK Success ---\n",
      "[2025-06-17 13:04:42] [ARTICLE] [ADD] AN: DJDN000020250611el6b002mt - *Fitch Rates Assicurazioni Generali's Tier 2 Subordinated Notes 'BBB+'\n",
      "[2025-06-17 13:04:42] [ARTICLE] [REP] AN: DJDN000020250611el6b002le - Texas Governor to Deploy National Guard as Anti-ICE Protests Spread -- 5th Update\n",
      "[2025-06-17 13:04:42] [ARTICLE] [ADD] AN: DJDN000020250611el6b002io - Insmed Is Maintained at Buy by Goldman Sachs\n",
      "[2025-06-17 13:04:42] [ARTICLE] [ADD] AN: DJDN000020250611el6b002mu - Moody's Ratings Announces Completion Of A Periodic Review Of Ratings Of Fox Corporation\n",
      "[2025-06-17 13:04:42] [ARTICLE] [ADD] AN: DJDN000020250611el6b002ip - Press Release: JCP&L Employee Volunteers Plant Thousands of Donated Trees in N.J.\n",
      "[2025-06-17 13:04:42] [ARTICLE] [ADD] AN: DJDN000020250611el6b002iq - *Fitch Affirms BOCOM BBM's IDRs and National Rating 'AAA(bra)'\n",
      "[2025-06-17 13:04:42] [ARTICLE] [ADD] AN: DJDN000020250611el6b002lf - Vera Bradley Leans on Retail Partnerships to Drive Engagement -- Market Talk\n",
      "[2025-06-17 13:04:42] [ARTICLE] [ADD] AN: DJDN000020250611el6b002mv - Vera Bradley Leans on Retail Partnerships to Drive Engagement -- Market Talk\n",
      "[2025-06-17 13:04:42] [ARTICLE] [REP] AN: DJDN000020250611el6b002iq - *Fitch Affirms BOCOM BBM's IDRs and National Rating 'AAA(bra)'\n",
      "[2025-06-17 13:04:42] [ARTICLE] [ADD] AN: DJDN000020250611el6b002ir - KinderCare Learning Is Maintained at Buy by Goldman Sachs\n",
      "--- ACK Success ---\n"
     ]
    },
    {
     "ename": "KeyboardInterrupt",
     "evalue": "",
     "output_type": "error",
     "traceback": [
      "\u001b[0;31m---------------------------------------------------------------------------\u001b[0m",
      "\u001b[0;31mKeyboardInterrupt\u001b[0m                         Traceback (most recent call last)",
      "Cell \u001b[0;32mIn[10], line 2\u001b[0m\n\u001b[1;32m      1\u001b[0m \u001b[38;5;28;01mwhile\u001b[39;00m \u001b[38;5;28;01mTrue\u001b[39;00m:\n\u001b[0;32m----> 2\u001b[0m     pull_response \u001b[38;5;241m=\u001b[39m \u001b[43mrequests\u001b[49m\u001b[38;5;241;43m.\u001b[39;49m\u001b[43mpost\u001b[49m\u001b[43m(\u001b[49m\u001b[43mPULL_URL\u001b[49m\u001b[43m,\u001b[49m\u001b[43m \u001b[49m\u001b[43mheaders\u001b[49m\u001b[38;5;241;43m=\u001b[39;49m\u001b[43mPUBSUB_HEADERS\u001b[49m\u001b[43m,\u001b[49m\u001b[43m \u001b[49m\u001b[43mjson\u001b[49m\u001b[38;5;241;43m=\u001b[39;49m\u001b[43mPULL_BODY\u001b[49m\u001b[43m)\u001b[49m\n\u001b[1;32m      3\u001b[0m     \u001b[38;5;28;01mif\u001b[39;00m \u001b[38;5;124m'\u001b[39m\u001b[38;5;124mreceivedMessages\u001b[39m\u001b[38;5;124m'\u001b[39m \u001b[38;5;129;01min\u001b[39;00m pull_response\u001b[38;5;241m.\u001b[39mjson():\n\u001b[1;32m      4\u001b[0m         encoded_messages \u001b[38;5;241m=\u001b[39m pull_response\u001b[38;5;241m.\u001b[39mjson()[\u001b[38;5;124m'\u001b[39m\u001b[38;5;124mreceivedMessages\u001b[39m\u001b[38;5;124m'\u001b[39m]\n",
      "File \u001b[0;32m~/miniconda3/envs/fadev/lib/python3.12/site-packages/requests/api.py:115\u001b[0m, in \u001b[0;36mpost\u001b[0;34m(url, data, json, **kwargs)\u001b[0m\n\u001b[1;32m    103\u001b[0m \u001b[38;5;28;01mdef\u001b[39;00m\u001b[38;5;250m \u001b[39m\u001b[38;5;21mpost\u001b[39m(url, data\u001b[38;5;241m=\u001b[39m\u001b[38;5;28;01mNone\u001b[39;00m, json\u001b[38;5;241m=\u001b[39m\u001b[38;5;28;01mNone\u001b[39;00m, \u001b[38;5;241m*\u001b[39m\u001b[38;5;241m*\u001b[39mkwargs):\n\u001b[1;32m    104\u001b[0m \u001b[38;5;250m    \u001b[39m\u001b[38;5;124mr\u001b[39m\u001b[38;5;124;03m\"\"\"Sends a POST request.\u001b[39;00m\n\u001b[1;32m    105\u001b[0m \n\u001b[1;32m    106\u001b[0m \u001b[38;5;124;03m    :param url: URL for the new :class:`Request` object.\u001b[39;00m\n\u001b[0;32m   (...)\u001b[0m\n\u001b[1;32m    112\u001b[0m \u001b[38;5;124;03m    :rtype: requests.Response\u001b[39;00m\n\u001b[1;32m    113\u001b[0m \u001b[38;5;124;03m    \"\"\"\u001b[39;00m\n\u001b[0;32m--> 115\u001b[0m     \u001b[38;5;28;01mreturn\u001b[39;00m \u001b[43mrequest\u001b[49m\u001b[43m(\u001b[49m\u001b[38;5;124;43m\"\u001b[39;49m\u001b[38;5;124;43mpost\u001b[39;49m\u001b[38;5;124;43m\"\u001b[39;49m\u001b[43m,\u001b[49m\u001b[43m \u001b[49m\u001b[43murl\u001b[49m\u001b[43m,\u001b[49m\u001b[43m \u001b[49m\u001b[43mdata\u001b[49m\u001b[38;5;241;43m=\u001b[39;49m\u001b[43mdata\u001b[49m\u001b[43m,\u001b[49m\u001b[43m \u001b[49m\u001b[43mjson\u001b[49m\u001b[38;5;241;43m=\u001b[39;49m\u001b[43mjson\u001b[49m\u001b[43m,\u001b[49m\u001b[43m \u001b[49m\u001b[38;5;241;43m*\u001b[39;49m\u001b[38;5;241;43m*\u001b[39;49m\u001b[43mkwargs\u001b[49m\u001b[43m)\u001b[49m\n",
      "File \u001b[0;32m~/miniconda3/envs/fadev/lib/python3.12/site-packages/requests/api.py:59\u001b[0m, in \u001b[0;36mrequest\u001b[0;34m(method, url, **kwargs)\u001b[0m\n\u001b[1;32m     55\u001b[0m \u001b[38;5;66;03m# By using the 'with' statement we are sure the session is closed, thus we\u001b[39;00m\n\u001b[1;32m     56\u001b[0m \u001b[38;5;66;03m# avoid leaving sockets open which can trigger a ResourceWarning in some\u001b[39;00m\n\u001b[1;32m     57\u001b[0m \u001b[38;5;66;03m# cases, and look like a memory leak in others.\u001b[39;00m\n\u001b[1;32m     58\u001b[0m \u001b[38;5;28;01mwith\u001b[39;00m sessions\u001b[38;5;241m.\u001b[39mSession() \u001b[38;5;28;01mas\u001b[39;00m session:\n\u001b[0;32m---> 59\u001b[0m     \u001b[38;5;28;01mreturn\u001b[39;00m \u001b[43msession\u001b[49m\u001b[38;5;241;43m.\u001b[39;49m\u001b[43mrequest\u001b[49m\u001b[43m(\u001b[49m\u001b[43mmethod\u001b[49m\u001b[38;5;241;43m=\u001b[39;49m\u001b[43mmethod\u001b[49m\u001b[43m,\u001b[49m\u001b[43m \u001b[49m\u001b[43murl\u001b[49m\u001b[38;5;241;43m=\u001b[39;49m\u001b[43murl\u001b[49m\u001b[43m,\u001b[49m\u001b[43m \u001b[49m\u001b[38;5;241;43m*\u001b[39;49m\u001b[38;5;241;43m*\u001b[39;49m\u001b[43mkwargs\u001b[49m\u001b[43m)\u001b[49m\n",
      "File \u001b[0;32m~/miniconda3/envs/fadev/lib/python3.12/site-packages/requests/sessions.py:589\u001b[0m, in \u001b[0;36mSession.request\u001b[0;34m(self, method, url, params, data, headers, cookies, files, auth, timeout, allow_redirects, proxies, hooks, stream, verify, cert, json)\u001b[0m\n\u001b[1;32m    584\u001b[0m send_kwargs \u001b[38;5;241m=\u001b[39m {\n\u001b[1;32m    585\u001b[0m     \u001b[38;5;124m\"\u001b[39m\u001b[38;5;124mtimeout\u001b[39m\u001b[38;5;124m\"\u001b[39m: timeout,\n\u001b[1;32m    586\u001b[0m     \u001b[38;5;124m\"\u001b[39m\u001b[38;5;124mallow_redirects\u001b[39m\u001b[38;5;124m\"\u001b[39m: allow_redirects,\n\u001b[1;32m    587\u001b[0m }\n\u001b[1;32m    588\u001b[0m send_kwargs\u001b[38;5;241m.\u001b[39mupdate(settings)\n\u001b[0;32m--> 589\u001b[0m resp \u001b[38;5;241m=\u001b[39m \u001b[38;5;28;43mself\u001b[39;49m\u001b[38;5;241;43m.\u001b[39;49m\u001b[43msend\u001b[49m\u001b[43m(\u001b[49m\u001b[43mprep\u001b[49m\u001b[43m,\u001b[49m\u001b[43m \u001b[49m\u001b[38;5;241;43m*\u001b[39;49m\u001b[38;5;241;43m*\u001b[39;49m\u001b[43msend_kwargs\u001b[49m\u001b[43m)\u001b[49m\n\u001b[1;32m    591\u001b[0m \u001b[38;5;28;01mreturn\u001b[39;00m resp\n",
      "File \u001b[0;32m~/miniconda3/envs/fadev/lib/python3.12/site-packages/requests/sessions.py:703\u001b[0m, in \u001b[0;36mSession.send\u001b[0;34m(self, request, **kwargs)\u001b[0m\n\u001b[1;32m    700\u001b[0m start \u001b[38;5;241m=\u001b[39m preferred_clock()\n\u001b[1;32m    702\u001b[0m \u001b[38;5;66;03m# Send the request\u001b[39;00m\n\u001b[0;32m--> 703\u001b[0m r \u001b[38;5;241m=\u001b[39m \u001b[43madapter\u001b[49m\u001b[38;5;241;43m.\u001b[39;49m\u001b[43msend\u001b[49m\u001b[43m(\u001b[49m\u001b[43mrequest\u001b[49m\u001b[43m,\u001b[49m\u001b[43m \u001b[49m\u001b[38;5;241;43m*\u001b[39;49m\u001b[38;5;241;43m*\u001b[39;49m\u001b[43mkwargs\u001b[49m\u001b[43m)\u001b[49m\n\u001b[1;32m    705\u001b[0m \u001b[38;5;66;03m# Total elapsed time of the request (approximately)\u001b[39;00m\n\u001b[1;32m    706\u001b[0m elapsed \u001b[38;5;241m=\u001b[39m preferred_clock() \u001b[38;5;241m-\u001b[39m start\n",
      "File \u001b[0;32m~/miniconda3/envs/fadev/lib/python3.12/site-packages/requests/adapters.py:667\u001b[0m, in \u001b[0;36mHTTPAdapter.send\u001b[0;34m(self, request, stream, timeout, verify, cert, proxies)\u001b[0m\n\u001b[1;32m    664\u001b[0m     timeout \u001b[38;5;241m=\u001b[39m TimeoutSauce(connect\u001b[38;5;241m=\u001b[39mtimeout, read\u001b[38;5;241m=\u001b[39mtimeout)\n\u001b[1;32m    666\u001b[0m \u001b[38;5;28;01mtry\u001b[39;00m:\n\u001b[0;32m--> 667\u001b[0m     resp \u001b[38;5;241m=\u001b[39m \u001b[43mconn\u001b[49m\u001b[38;5;241;43m.\u001b[39;49m\u001b[43murlopen\u001b[49m\u001b[43m(\u001b[49m\n\u001b[1;32m    668\u001b[0m \u001b[43m        \u001b[49m\u001b[43mmethod\u001b[49m\u001b[38;5;241;43m=\u001b[39;49m\u001b[43mrequest\u001b[49m\u001b[38;5;241;43m.\u001b[39;49m\u001b[43mmethod\u001b[49m\u001b[43m,\u001b[49m\n\u001b[1;32m    669\u001b[0m \u001b[43m        \u001b[49m\u001b[43murl\u001b[49m\u001b[38;5;241;43m=\u001b[39;49m\u001b[43murl\u001b[49m\u001b[43m,\u001b[49m\n\u001b[1;32m    670\u001b[0m \u001b[43m        \u001b[49m\u001b[43mbody\u001b[49m\u001b[38;5;241;43m=\u001b[39;49m\u001b[43mrequest\u001b[49m\u001b[38;5;241;43m.\u001b[39;49m\u001b[43mbody\u001b[49m\u001b[43m,\u001b[49m\n\u001b[1;32m    671\u001b[0m \u001b[43m        \u001b[49m\u001b[43mheaders\u001b[49m\u001b[38;5;241;43m=\u001b[39;49m\u001b[43mrequest\u001b[49m\u001b[38;5;241;43m.\u001b[39;49m\u001b[43mheaders\u001b[49m\u001b[43m,\u001b[49m\n\u001b[1;32m    672\u001b[0m \u001b[43m        \u001b[49m\u001b[43mredirect\u001b[49m\u001b[38;5;241;43m=\u001b[39;49m\u001b[38;5;28;43;01mFalse\u001b[39;49;00m\u001b[43m,\u001b[49m\n\u001b[1;32m    673\u001b[0m \u001b[43m        \u001b[49m\u001b[43massert_same_host\u001b[49m\u001b[38;5;241;43m=\u001b[39;49m\u001b[38;5;28;43;01mFalse\u001b[39;49;00m\u001b[43m,\u001b[49m\n\u001b[1;32m    674\u001b[0m \u001b[43m        \u001b[49m\u001b[43mpreload_content\u001b[49m\u001b[38;5;241;43m=\u001b[39;49m\u001b[38;5;28;43;01mFalse\u001b[39;49;00m\u001b[43m,\u001b[49m\n\u001b[1;32m    675\u001b[0m \u001b[43m        \u001b[49m\u001b[43mdecode_content\u001b[49m\u001b[38;5;241;43m=\u001b[39;49m\u001b[38;5;28;43;01mFalse\u001b[39;49;00m\u001b[43m,\u001b[49m\n\u001b[1;32m    676\u001b[0m \u001b[43m        \u001b[49m\u001b[43mretries\u001b[49m\u001b[38;5;241;43m=\u001b[39;49m\u001b[38;5;28;43mself\u001b[39;49m\u001b[38;5;241;43m.\u001b[39;49m\u001b[43mmax_retries\u001b[49m\u001b[43m,\u001b[49m\n\u001b[1;32m    677\u001b[0m \u001b[43m        \u001b[49m\u001b[43mtimeout\u001b[49m\u001b[38;5;241;43m=\u001b[39;49m\u001b[43mtimeout\u001b[49m\u001b[43m,\u001b[49m\n\u001b[1;32m    678\u001b[0m \u001b[43m        \u001b[49m\u001b[43mchunked\u001b[49m\u001b[38;5;241;43m=\u001b[39;49m\u001b[43mchunked\u001b[49m\u001b[43m,\u001b[49m\n\u001b[1;32m    679\u001b[0m \u001b[43m    \u001b[49m\u001b[43m)\u001b[49m\n\u001b[1;32m    681\u001b[0m \u001b[38;5;28;01mexcept\u001b[39;00m (ProtocolError, \u001b[38;5;167;01mOSError\u001b[39;00m) \u001b[38;5;28;01mas\u001b[39;00m err:\n\u001b[1;32m    682\u001b[0m     \u001b[38;5;28;01mraise\u001b[39;00m \u001b[38;5;167;01mConnectionError\u001b[39;00m(err, request\u001b[38;5;241m=\u001b[39mrequest)\n",
      "File \u001b[0;32m~/miniconda3/envs/fadev/lib/python3.12/site-packages/urllib3/connectionpool.py:789\u001b[0m, in \u001b[0;36mHTTPConnectionPool.urlopen\u001b[0;34m(self, method, url, body, headers, retries, redirect, assert_same_host, timeout, pool_timeout, release_conn, chunked, body_pos, preload_content, decode_content, **response_kw)\u001b[0m\n\u001b[1;32m    786\u001b[0m response_conn \u001b[38;5;241m=\u001b[39m conn \u001b[38;5;28;01mif\u001b[39;00m \u001b[38;5;129;01mnot\u001b[39;00m release_conn \u001b[38;5;28;01melse\u001b[39;00m \u001b[38;5;28;01mNone\u001b[39;00m\n\u001b[1;32m    788\u001b[0m \u001b[38;5;66;03m# Make the request on the HTTPConnection object\u001b[39;00m\n\u001b[0;32m--> 789\u001b[0m response \u001b[38;5;241m=\u001b[39m \u001b[38;5;28;43mself\u001b[39;49m\u001b[38;5;241;43m.\u001b[39;49m\u001b[43m_make_request\u001b[49m\u001b[43m(\u001b[49m\n\u001b[1;32m    790\u001b[0m \u001b[43m    \u001b[49m\u001b[43mconn\u001b[49m\u001b[43m,\u001b[49m\n\u001b[1;32m    791\u001b[0m \u001b[43m    \u001b[49m\u001b[43mmethod\u001b[49m\u001b[43m,\u001b[49m\n\u001b[1;32m    792\u001b[0m \u001b[43m    \u001b[49m\u001b[43murl\u001b[49m\u001b[43m,\u001b[49m\n\u001b[1;32m    793\u001b[0m \u001b[43m    \u001b[49m\u001b[43mtimeout\u001b[49m\u001b[38;5;241;43m=\u001b[39;49m\u001b[43mtimeout_obj\u001b[49m\u001b[43m,\u001b[49m\n\u001b[1;32m    794\u001b[0m \u001b[43m    \u001b[49m\u001b[43mbody\u001b[49m\u001b[38;5;241;43m=\u001b[39;49m\u001b[43mbody\u001b[49m\u001b[43m,\u001b[49m\n\u001b[1;32m    795\u001b[0m \u001b[43m    \u001b[49m\u001b[43mheaders\u001b[49m\u001b[38;5;241;43m=\u001b[39;49m\u001b[43mheaders\u001b[49m\u001b[43m,\u001b[49m\n\u001b[1;32m    796\u001b[0m \u001b[43m    \u001b[49m\u001b[43mchunked\u001b[49m\u001b[38;5;241;43m=\u001b[39;49m\u001b[43mchunked\u001b[49m\u001b[43m,\u001b[49m\n\u001b[1;32m    797\u001b[0m \u001b[43m    \u001b[49m\u001b[43mretries\u001b[49m\u001b[38;5;241;43m=\u001b[39;49m\u001b[43mretries\u001b[49m\u001b[43m,\u001b[49m\n\u001b[1;32m    798\u001b[0m \u001b[43m    \u001b[49m\u001b[43mresponse_conn\u001b[49m\u001b[38;5;241;43m=\u001b[39;49m\u001b[43mresponse_conn\u001b[49m\u001b[43m,\u001b[49m\n\u001b[1;32m    799\u001b[0m \u001b[43m    \u001b[49m\u001b[43mpreload_content\u001b[49m\u001b[38;5;241;43m=\u001b[39;49m\u001b[43mpreload_content\u001b[49m\u001b[43m,\u001b[49m\n\u001b[1;32m    800\u001b[0m \u001b[43m    \u001b[49m\u001b[43mdecode_content\u001b[49m\u001b[38;5;241;43m=\u001b[39;49m\u001b[43mdecode_content\u001b[49m\u001b[43m,\u001b[49m\n\u001b[1;32m    801\u001b[0m \u001b[43m    \u001b[49m\u001b[38;5;241;43m*\u001b[39;49m\u001b[38;5;241;43m*\u001b[39;49m\u001b[43mresponse_kw\u001b[49m\u001b[43m,\u001b[49m\n\u001b[1;32m    802\u001b[0m \u001b[43m\u001b[49m\u001b[43m)\u001b[49m\n\u001b[1;32m    804\u001b[0m \u001b[38;5;66;03m# Everything went great!\u001b[39;00m\n\u001b[1;32m    805\u001b[0m clean_exit \u001b[38;5;241m=\u001b[39m \u001b[38;5;28;01mTrue\u001b[39;00m\n",
      "File \u001b[0;32m~/miniconda3/envs/fadev/lib/python3.12/site-packages/urllib3/connectionpool.py:536\u001b[0m, in \u001b[0;36mHTTPConnectionPool._make_request\u001b[0;34m(self, conn, method, url, body, headers, retries, timeout, chunked, response_conn, preload_content, decode_content, enforce_content_length)\u001b[0m\n\u001b[1;32m    534\u001b[0m \u001b[38;5;66;03m# Receive the response from the server\u001b[39;00m\n\u001b[1;32m    535\u001b[0m \u001b[38;5;28;01mtry\u001b[39;00m:\n\u001b[0;32m--> 536\u001b[0m     response \u001b[38;5;241m=\u001b[39m \u001b[43mconn\u001b[49m\u001b[38;5;241;43m.\u001b[39;49m\u001b[43mgetresponse\u001b[49m\u001b[43m(\u001b[49m\u001b[43m)\u001b[49m\n\u001b[1;32m    537\u001b[0m \u001b[38;5;28;01mexcept\u001b[39;00m (BaseSSLError, \u001b[38;5;167;01mOSError\u001b[39;00m) \u001b[38;5;28;01mas\u001b[39;00m e:\n\u001b[1;32m    538\u001b[0m     \u001b[38;5;28mself\u001b[39m\u001b[38;5;241m.\u001b[39m_raise_timeout(err\u001b[38;5;241m=\u001b[39me, url\u001b[38;5;241m=\u001b[39murl, timeout_value\u001b[38;5;241m=\u001b[39mread_timeout)\n",
      "File \u001b[0;32m~/miniconda3/envs/fadev/lib/python3.12/site-packages/urllib3/connection.py:507\u001b[0m, in \u001b[0;36mHTTPConnection.getresponse\u001b[0;34m(self)\u001b[0m\n\u001b[1;32m    504\u001b[0m \u001b[38;5;28;01mfrom\u001b[39;00m\u001b[38;5;250m \u001b[39m\u001b[38;5;21;01m.\u001b[39;00m\u001b[38;5;21;01mresponse\u001b[39;00m\u001b[38;5;250m \u001b[39m\u001b[38;5;28;01mimport\u001b[39;00m HTTPResponse\n\u001b[1;32m    506\u001b[0m \u001b[38;5;66;03m# Get the response from http.client.HTTPConnection\u001b[39;00m\n\u001b[0;32m--> 507\u001b[0m httplib_response \u001b[38;5;241m=\u001b[39m \u001b[38;5;28;43msuper\u001b[39;49m\u001b[43m(\u001b[49m\u001b[43m)\u001b[49m\u001b[38;5;241;43m.\u001b[39;49m\u001b[43mgetresponse\u001b[49m\u001b[43m(\u001b[49m\u001b[43m)\u001b[49m\n\u001b[1;32m    509\u001b[0m \u001b[38;5;28;01mtry\u001b[39;00m:\n\u001b[1;32m    510\u001b[0m     assert_header_parsing(httplib_response\u001b[38;5;241m.\u001b[39mmsg)\n",
      "File \u001b[0;32m~/miniconda3/envs/fadev/lib/python3.12/http/client.py:1428\u001b[0m, in \u001b[0;36mHTTPConnection.getresponse\u001b[0;34m(self)\u001b[0m\n\u001b[1;32m   1426\u001b[0m \u001b[38;5;28;01mtry\u001b[39;00m:\n\u001b[1;32m   1427\u001b[0m     \u001b[38;5;28;01mtry\u001b[39;00m:\n\u001b[0;32m-> 1428\u001b[0m         \u001b[43mresponse\u001b[49m\u001b[38;5;241;43m.\u001b[39;49m\u001b[43mbegin\u001b[49m\u001b[43m(\u001b[49m\u001b[43m)\u001b[49m\n\u001b[1;32m   1429\u001b[0m     \u001b[38;5;28;01mexcept\u001b[39;00m \u001b[38;5;167;01mConnectionError\u001b[39;00m:\n\u001b[1;32m   1430\u001b[0m         \u001b[38;5;28mself\u001b[39m\u001b[38;5;241m.\u001b[39mclose()\n",
      "File \u001b[0;32m~/miniconda3/envs/fadev/lib/python3.12/http/client.py:331\u001b[0m, in \u001b[0;36mHTTPResponse.begin\u001b[0;34m(self)\u001b[0m\n\u001b[1;32m    329\u001b[0m \u001b[38;5;66;03m# read until we get a non-100 response\u001b[39;00m\n\u001b[1;32m    330\u001b[0m \u001b[38;5;28;01mwhile\u001b[39;00m \u001b[38;5;28;01mTrue\u001b[39;00m:\n\u001b[0;32m--> 331\u001b[0m     version, status, reason \u001b[38;5;241m=\u001b[39m \u001b[38;5;28;43mself\u001b[39;49m\u001b[38;5;241;43m.\u001b[39;49m\u001b[43m_read_status\u001b[49m\u001b[43m(\u001b[49m\u001b[43m)\u001b[49m\n\u001b[1;32m    332\u001b[0m     \u001b[38;5;28;01mif\u001b[39;00m status \u001b[38;5;241m!=\u001b[39m CONTINUE:\n\u001b[1;32m    333\u001b[0m         \u001b[38;5;28;01mbreak\u001b[39;00m\n",
      "File \u001b[0;32m~/miniconda3/envs/fadev/lib/python3.12/http/client.py:292\u001b[0m, in \u001b[0;36mHTTPResponse._read_status\u001b[0;34m(self)\u001b[0m\n\u001b[1;32m    291\u001b[0m \u001b[38;5;28;01mdef\u001b[39;00m\u001b[38;5;250m \u001b[39m\u001b[38;5;21m_read_status\u001b[39m(\u001b[38;5;28mself\u001b[39m):\n\u001b[0;32m--> 292\u001b[0m     line \u001b[38;5;241m=\u001b[39m \u001b[38;5;28mstr\u001b[39m(\u001b[38;5;28;43mself\u001b[39;49m\u001b[38;5;241;43m.\u001b[39;49m\u001b[43mfp\u001b[49m\u001b[38;5;241;43m.\u001b[39;49m\u001b[43mreadline\u001b[49m\u001b[43m(\u001b[49m\u001b[43m_MAXLINE\u001b[49m\u001b[43m \u001b[49m\u001b[38;5;241;43m+\u001b[39;49m\u001b[43m \u001b[49m\u001b[38;5;241;43m1\u001b[39;49m\u001b[43m)\u001b[49m, \u001b[38;5;124m\"\u001b[39m\u001b[38;5;124miso-8859-1\u001b[39m\u001b[38;5;124m\"\u001b[39m)\n\u001b[1;32m    293\u001b[0m     \u001b[38;5;28;01mif\u001b[39;00m \u001b[38;5;28mlen\u001b[39m(line) \u001b[38;5;241m>\u001b[39m _MAXLINE:\n\u001b[1;32m    294\u001b[0m         \u001b[38;5;28;01mraise\u001b[39;00m LineTooLong(\u001b[38;5;124m\"\u001b[39m\u001b[38;5;124mstatus line\u001b[39m\u001b[38;5;124m\"\u001b[39m)\n",
      "File \u001b[0;32m~/miniconda3/envs/fadev/lib/python3.12/socket.py:720\u001b[0m, in \u001b[0;36mSocketIO.readinto\u001b[0;34m(self, b)\u001b[0m\n\u001b[1;32m    718\u001b[0m \u001b[38;5;28;01mwhile\u001b[39;00m \u001b[38;5;28;01mTrue\u001b[39;00m:\n\u001b[1;32m    719\u001b[0m     \u001b[38;5;28;01mtry\u001b[39;00m:\n\u001b[0;32m--> 720\u001b[0m         \u001b[38;5;28;01mreturn\u001b[39;00m \u001b[38;5;28;43mself\u001b[39;49m\u001b[38;5;241;43m.\u001b[39;49m\u001b[43m_sock\u001b[49m\u001b[38;5;241;43m.\u001b[39;49m\u001b[43mrecv_into\u001b[49m\u001b[43m(\u001b[49m\u001b[43mb\u001b[49m\u001b[43m)\u001b[49m\n\u001b[1;32m    721\u001b[0m     \u001b[38;5;28;01mexcept\u001b[39;00m timeout:\n\u001b[1;32m    722\u001b[0m         \u001b[38;5;28mself\u001b[39m\u001b[38;5;241m.\u001b[39m_timeout_occurred \u001b[38;5;241m=\u001b[39m \u001b[38;5;28;01mTrue\u001b[39;00m\n",
      "File \u001b[0;32m~/miniconda3/envs/fadev/lib/python3.12/ssl.py:1251\u001b[0m, in \u001b[0;36mSSLSocket.recv_into\u001b[0;34m(self, buffer, nbytes, flags)\u001b[0m\n\u001b[1;32m   1247\u001b[0m     \u001b[38;5;28;01mif\u001b[39;00m flags \u001b[38;5;241m!=\u001b[39m \u001b[38;5;241m0\u001b[39m:\n\u001b[1;32m   1248\u001b[0m         \u001b[38;5;28;01mraise\u001b[39;00m \u001b[38;5;167;01mValueError\u001b[39;00m(\n\u001b[1;32m   1249\u001b[0m           \u001b[38;5;124m\"\u001b[39m\u001b[38;5;124mnon-zero flags not allowed in calls to recv_into() on \u001b[39m\u001b[38;5;132;01m%s\u001b[39;00m\u001b[38;5;124m\"\u001b[39m \u001b[38;5;241m%\u001b[39m\n\u001b[1;32m   1250\u001b[0m           \u001b[38;5;28mself\u001b[39m\u001b[38;5;241m.\u001b[39m\u001b[38;5;18m__class__\u001b[39m)\n\u001b[0;32m-> 1251\u001b[0m     \u001b[38;5;28;01mreturn\u001b[39;00m \u001b[38;5;28;43mself\u001b[39;49m\u001b[38;5;241;43m.\u001b[39;49m\u001b[43mread\u001b[49m\u001b[43m(\u001b[49m\u001b[43mnbytes\u001b[49m\u001b[43m,\u001b[49m\u001b[43m \u001b[49m\u001b[43mbuffer\u001b[49m\u001b[43m)\u001b[49m\n\u001b[1;32m   1252\u001b[0m \u001b[38;5;28;01melse\u001b[39;00m:\n\u001b[1;32m   1253\u001b[0m     \u001b[38;5;28;01mreturn\u001b[39;00m \u001b[38;5;28msuper\u001b[39m()\u001b[38;5;241m.\u001b[39mrecv_into(buffer, nbytes, flags)\n",
      "File \u001b[0;32m~/miniconda3/envs/fadev/lib/python3.12/ssl.py:1103\u001b[0m, in \u001b[0;36mSSLSocket.read\u001b[0;34m(self, len, buffer)\u001b[0m\n\u001b[1;32m   1101\u001b[0m \u001b[38;5;28;01mtry\u001b[39;00m:\n\u001b[1;32m   1102\u001b[0m     \u001b[38;5;28;01mif\u001b[39;00m buffer \u001b[38;5;129;01mis\u001b[39;00m \u001b[38;5;129;01mnot\u001b[39;00m \u001b[38;5;28;01mNone\u001b[39;00m:\n\u001b[0;32m-> 1103\u001b[0m         \u001b[38;5;28;01mreturn\u001b[39;00m \u001b[38;5;28;43mself\u001b[39;49m\u001b[38;5;241;43m.\u001b[39;49m\u001b[43m_sslobj\u001b[49m\u001b[38;5;241;43m.\u001b[39;49m\u001b[43mread\u001b[49m\u001b[43m(\u001b[49m\u001b[38;5;28;43mlen\u001b[39;49m\u001b[43m,\u001b[49m\u001b[43m \u001b[49m\u001b[43mbuffer\u001b[49m\u001b[43m)\u001b[49m\n\u001b[1;32m   1104\u001b[0m     \u001b[38;5;28;01melse\u001b[39;00m:\n\u001b[1;32m   1105\u001b[0m         \u001b[38;5;28;01mreturn\u001b[39;00m \u001b[38;5;28mself\u001b[39m\u001b[38;5;241m.\u001b[39m_sslobj\u001b[38;5;241m.\u001b[39mread(\u001b[38;5;28mlen\u001b[39m)\n",
      "\u001b[0;31mKeyboardInterrupt\u001b[0m: "
     ]
    }
   ],
   "source": [
    "while True:\n",
    "    pull_response = requests.post(PULL_URL, headers=PUBSUB_HEADERS, json=PULL_BODY)\n",
    "    if 'receivedMessages' in pull_response.json():\n",
    "        encoded_messages = pull_response.json()['receivedMessages']\n",
    "        if len(encoded_messages) > 0:\n",
    "            ack_ids = []\n",
    "            for encoded_message in encoded_messages:\n",
    "                encoded_data = encoded_message['message']['data']\n",
    "                pubsub_message = base64.b64decode(encoded_data)\n",
    "                pubsub_dict = json.loads(pubsub_message)\n",
    "                news_message = pubsub_dict['data'][0]['attributes']\n",
    "                process_message(news_message)\n",
    "                ack_ids.append(encoded_message['ackId'])\n",
    "            acknowledge_messages(ack_ids)\n",
    "        else:\n",
    "            break\n",
    "    else:\n",
    "        break\n",
    "print(\"*** No more messages to process ***\")"
   ]
  },
  {
   "cell_type": "markdown",
   "metadata": {},
   "source": [
    "## Next Steps\n",
    "\n",
    "* Create a [Snapshot Extraction](1.6_snapshot_extraction.ipynb)\n",
    "* Check out [Account Statistics](1.1_account_statistics.ipynb)"
   ]
  }
 ],
 "metadata": {
  "kernelspec": {
   "display_name": "fadev",
   "language": "python",
   "name": "python3"
  },
  "language_info": {
   "codemirror_mode": {
    "name": "ipython",
    "version": 3
   },
   "file_extension": ".py",
   "mimetype": "text/x-python",
   "name": "python",
   "nbconvert_exporter": "python",
   "pygments_lexer": "ipython3",
   "version": "3.12.7"
  }
 },
 "nbformat": 4,
 "nbformat_minor": 2
}
